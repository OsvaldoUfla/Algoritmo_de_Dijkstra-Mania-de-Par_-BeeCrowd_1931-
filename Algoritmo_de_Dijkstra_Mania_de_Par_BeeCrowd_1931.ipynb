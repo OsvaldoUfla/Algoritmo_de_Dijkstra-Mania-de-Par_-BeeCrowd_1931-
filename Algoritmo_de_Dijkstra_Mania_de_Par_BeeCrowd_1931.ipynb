{
  "nbformat": 4,
  "nbformat_minor": 0,
  "metadata": {
    "colab": {
      "provenance": [],
      "authorship_tag": "ABX9TyPgNmKnrep7giONWuENgfZN",
      "include_colab_link": true
    },
    "kernelspec": {
      "name": "python3",
      "display_name": "Python 3"
    },
    "language_info": {
      "name": "python"
    }
  },
  "cells": [
    {
      "cell_type": "markdown",
      "metadata": {
        "id": "view-in-github",
        "colab_type": "text"
      },
      "source": [
        "<a href=\"https://colab.research.google.com/github/OsvaldoUfla/Algoritmo_de_Dijkstra-Mania-de-Par_BeeCrowd_1931/blob/main/Algoritmo_de_Dijkstra_Mania_de_Par_BeeCrowd_1931.ipynb\" target=\"_parent\"><img src=\"https://colab.research.google.com/assets/colab-badge.svg\" alt=\"Open In Colab\"/></a>"
      ]
    },
    {
      "cell_type": "code",
      "execution_count": 7,
      "metadata": {
        "colab": {
          "base_uri": "https://localhost:8080/"
        },
        "id": "kuSXHnf4hUNm",
        "outputId": "885880c1-7faf-4493-80e3-515533dc3bbc"
      },
      "outputs": [
        {
          "output_type": "stream",
          "name": "stdout",
          "text": [
            "Overwriting dijkstra.cpp\n"
          ]
        }
      ],
      "source": [
        "%%writefile dijkstra.cpp\n",
        "#include<iostream>\n",
        "#include<vector>\n",
        "#include<queue>\n",
        "#include<utility>\n",
        "#include<functional>\n",
        "#include<fstream>\n",
        "using namespace std;\n",
        "\n",
        "#define INF 1000000000\n",
        "\n",
        "/*\n",
        " * Variaveis globais\n",
        " */\n",
        "\n",
        "// lista de adjacencia\n",
        "vector<pair<int, int>>* LA;\n",
        "\n",
        "// numero de vertices do grafo\n",
        "int n;\n",
        "\n",
        "// numeor de arestas do grafo\n",
        "int m;\n",
        "\n",
        "// distancia da origem \"org\" a cada vertice do grafo\n",
        "vector<int> d;\n",
        "\n",
        "void dijkstra(int org)\n",
        "{\n",
        "    d.assign(n, INF);\n",
        "    \n",
        "    // a distance da origem \"org\" eh sempre zero\n",
        "    d[org] = 0;\n",
        "    \n",
        "    // heap que auxilia na obtencao do vertice com maior prioridade, a cada iteracao\n",
        "    priority_queue< pair<int, int>, vector<pair<int, int>>, greater<pair<int, int>> > heap;\n",
        "\n",
        "    // primeiro par inserido na heap: \"org\" com distância zero\n",
        "    heap.push(make_pair(0, org));\n",
        " \n",
        "    vector<bool> visitado;\n",
        "    visitado.assign(n, false);\n",
        " \n",
        "    // o algoritmo para quando a heap estiver vazia\n",
        "    while(!heap.empty())\n",
        "    {\n",
        "        pair<int, int> vertice = heap.top();\n",
        "        heap.pop();\n",
        "\n",
        "        int distancia = vertice.first;\n",
        "        int u = vertice.second;\n",
        "     \n",
        "        if(visitado[u]) // \"u\" jah foi explorado\n",
        "          continue;\n",
        "     \n",
        "        visitado[u] = true;\n",
        "     \n",
        "        int custo;\n",
        "        for(int j = 0; j < (int) LA[u].size(); j++)\n",
        "        {\n",
        "            pair<int, int> vizinho = LA[u][j];\n",
        "            int v = vizinho.first;\n",
        "            int prob = vizinho.second;\n",
        "         \n",
        "            // tentativa de melhorar a estimativa de menor caminho da origem ao vertice v\n",
        "            custo = d[u] + prob;\n",
        "            if(custo < d[v]) \n",
        "            { \n",
        "                d[v] = custo; \n",
        "                heap.push(make_pair(d[v], v)); \n",
        "            }\n",
        "        }\n",
        "    }\n",
        "}\n",
        "\n",
        "int main()\n",
        "{\n",
        "    cin >> n >> m;\n",
        "\n",
        "    LA = new vector<pair<int, int>>[n];\n",
        "    int u, v;\n",
        "    int p;\n",
        "    for(int i = 0; i < m; i++)\n",
        "    {\n",
        "        cin >> u >> v; \n",
        "        cin >> p;\n",
        "        u--;\n",
        "        v--;\n",
        "        LA[u].push_back(make_pair(v, p));\n",
        "    }\n",
        "    \n",
        "    for(int i = 0; i < n; i++)\n",
        "    {\n",
        "        cout << \"vertice \" << i+1 << \": \";\n",
        "        for(int j = 0; j < (int) LA[i].size(); j++)\n",
        "        {\n",
        "            cout << \"(\" << LA[i][j].first +1 << \", \" << LA[i][j].second << \") \";\n",
        "        }\n",
        "        cout << endl;\n",
        "    }\n",
        "    \n",
        "\n",
        "    dijkstra(0);\n",
        "\n",
        "    for(int i = 0; i < n; i++)\n",
        "        cout << \"d[\" << i + 1 << \"]: \" << d[i] << endl;\n",
        "    \n",
        "\n",
        "    return 0;\n",
        "}"
      ]
    },
    {
      "cell_type": "code",
      "source": [
        "%%script bash\n",
        "g++ dijkstra.cpp -o dijkstra"
      ],
      "metadata": {
        "id": "whhSW96Mhvrj"
      },
      "execution_count": 8,
      "outputs": []
    },
    {
      "cell_type": "code",
      "source": [
        "%%script bash\n",
        "echo -e \"12 17\\n1 2 9\\n1 3 8\\n2 4 7\\n3 4 7\\n3 5 8\\n4 6 3\\n4 7 9\\n5 6 5\\n5 7 6\\n6 8 1\\n6 9 4\\n7 9 1\\n8 10 2\\n9 10 5\\n9 11 9\\n10 12 6\\n11 12 1\\n\" > 01.in\n",
        "./dijkstra < 01.in"
      ],
      "metadata": {
        "colab": {
          "base_uri": "https://localhost:8080/"
        },
        "id": "Tgv3H5mMhvPS",
        "outputId": "834180e9-1657-40f3-9bb7-6f729a491ee7"
      },
      "execution_count": 9,
      "outputs": [
        {
          "output_type": "stream",
          "name": "stdout",
          "text": [
            "vertice 1: (2, 9) (3, 8) \n",
            "vertice 2: (4, 7) \n",
            "vertice 3: (4, 7) (5, 8) \n",
            "vertice 4: (6, 3) (7, 9) \n",
            "vertice 5: (6, 5) (7, 6) \n",
            "vertice 6: (8, 1) (9, 4) \n",
            "vertice 7: (9, 1) \n",
            "vertice 8: (10, 2) \n",
            "vertice 9: (10, 5) (11, 9) \n",
            "vertice 10: (12, 6) \n",
            "vertice 11: (12, 1) \n",
            "vertice 12: \n",
            "d[1]: 0\n",
            "d[2]: 9\n",
            "d[3]: 8\n",
            "d[4]: 15\n",
            "d[5]: 16\n",
            "d[6]: 18\n",
            "d[7]: 22\n",
            "d[8]: 19\n",
            "d[9]: 22\n",
            "d[10]: 21\n",
            "d[11]: 31\n",
            "d[12]: 27\n"
          ]
        }
      ]
    }
  ]
}